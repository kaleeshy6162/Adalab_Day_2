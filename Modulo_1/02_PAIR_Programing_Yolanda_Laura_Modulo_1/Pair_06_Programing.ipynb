{
 "cells": [
  {
   "cell_type": "markdown",
   "metadata": {},
   "source": [
    "1. En este ejercicio de pair programming, vamos a crear una clase para gestionar la información de los empleados de nuestra empresa. Siguiendo las indicaciones del jefe, necesitamos organizar los datos de cada empleado de manera más estructurada.\n",
    "\n",
    "- La clase Empleados permite gestionar información relacionada con los empleados de una empresa, con las siguientes características:\n",
    "\n",
    "1. Debes crear una clase llamada \"Empleados\" que tenga los siguientes atributos: nombre, apellidos, edad, posicion, año , vacaciones(cantidad de días de vacaciones que le quedan al empleado) y herramientas.\n",
    "\n",
    "2. El constructor __init__ debe recibir estos atributos como parámetros y asignarlos a los respectivos atributos de la clase.\n",
    "\n",
    "3. Los atributos representan la información personal y profesional de un empleado, como su nombre completo, edad, posición en la empresa, año de ingreso, días de vacaciones disponibles y una lista de herramientas que el empleado sabe utilizar.\n",
    "\n",
    "- Los métodos que debe recibir esta clase son:\n",
    "\n",
    "1. Método \n",
    "descripcion\n",
    ": Proporciona una descripción del empleado, incluyendo su nombre, posición en la empresa, y la cantidad de días de vacaciones que le quedan para el año actual. Los pasos para resolver el ejercicio del método descripcion son:\n",
    "\n",
    "- Utilizar F-Strings: Utiliza f-strings para construir la descripción del empleado de manera legible y eficiente.\n",
    "\n",
    "- Especificar los Atributos a Incluir: Determina cuáles de los atributos del empleado se deben incluir en la descripción. Los atributos necesarios son nombre, posicion, año, y vacaciones.\n",
    "\n",
    "- Concatenar los Atributos: Usar f-strings para concatenar los atributos seleccionados y crear una descripción coherente.\n",
    "\n",
    "2. Método \n",
    "cambiando_posicion\n",
    ": Verifica las herramientas que el empleado tiene en su lista y devuelve un mensaje específico basado en las herramientas. Puede elogiar al empleado si tiene \"Python\" en su lista o sugerirle que deje de usar \"Excel\" y aprenda Python. Los pasos para resolver este ejercicio son:\n",
    "\n",
    "- Iterar a través de las Herramientas: La función debe recorrer la lista de herramientas (self.herramientas) del empleado.\n",
    "\n",
    "- Evaluar Cada Herramienta: Para cada herramienta en la lista, verifica si es igual a \"Python\" o \"Excel\" (en minúsculas).\n",
    "\n",
    "3. Método \n",
    "calcular_antiguedad\n",
    ": Calcula la antigüedad del empleado en años y meses desde el año de ingreso hasta la fecha actual.\n",
    "\n",
    "- Calcular la Antigüedad en Años y Meses: Utiliza el módulo datetime de Python para obtener el año actual y el mes actual.\n",
    "\n",
    "- Generar el Mensaje de Antigüedad: Usa los valores calculados para años y meses de antigüedad para generar un mensaje descriptivo. Por ejemplo, \"Juan lleva 5 años y 3 meses en la empresa\".\n",
    "\n",
    "4. Método \n",
    "solicitar_aumento_vacaciones\n",
    ": Permite al empleado solicitar un aumento en la cantidad de días de vacaciones. Si la solicitud es válida (es decir, se solicitan días positivos), actualiza los días de vacaciones del empleado y devuelve un mensaje de confirmación. Recibirá un parámetro dias_solicitados, que corresponderá con el número de días de vacaciones que quiere solicitar.\n",
    "\n",
    "- Validar los Días Solicitados: Utiliza una estructura de control para verificar si la cantidad de días solicitados (dias_solicitados) es mayor que cero. Esto garantiza que solo se procesen solicitudes de aumento válidas.\n",
    "\n",
    "- Actualizar los Días de Vacaciones: Si la solicitud es válida, aumenta la cantidad de días de vacaciones del empleado (self.vacaciones) sumando la cantidad de días solicitados.\n",
    "\n",
    "- Generar un Mensaje de Confirmación: Crea un mensaje informativo que confirme la aprobación de la solicitud y muestre la cantidad actualizada de días de vacaciones del empleado.\n",
    "\n",
    "- Manejar Solicitudes No Válidas: Si la solicitud no es válida (es decir, dias_solicitados es menor o igual a cero), generar un mensaje de error que indique que la solicitud debe ser un número positivo.\n",
    "\n",
    "5. Método \n",
    "registrar_herramienta\n",
    ": Permite al empleado registrar una nueva herramienta en su lista de habilidades. La herramienta se registra si no está registrada previamente en la lista de herramientas del empleado. Recibirá un parámetro que será la nueva herramienta.\n",
    "\n",
    "- Validar la Nueva Herramienta: Utiliza una estructura de control para verificar si la nueva herramienta no está en la lista de herramientas existentes.\n",
    "\n",
    "- Agregar la Nueva Herramienta: Si la nueva herramienta no está en la lista existente, agregarla a la lista.\n",
    "\n",
    "- Generar un Mensaje de Confirmación: Crea un mensaje informativo que confirme el registro exitoso de la nueva herramienta y muestre el nombre de la herramienta registrada.\n",
    "\n",
    "- Manejar Herramientas Duplicadas: Si la nueva herramienta ya existe en la lista, genera un mensaje que indique que la herramienta ya ha sido registrada previamente.\n",
    "\n",
    "6. Método \n",
    "cambiar_posicion\n",
    ": Permite al empleado cambiar su posición y salario en la empresa. Actualiza la posición y el salario y devuelve un mensaje de felicitación. Recibirá dos parámetros, la nueva posición y el nuevo salario.\n",
    "\n",
    "- Actualizar la Posición y el Salario: Utiliza los parámetros nueva_posicion y nuevo_salario para actualizar la posición y el salario del empleado.\n",
    "\n",
    "- Generar un Mensaje de Confirmación: Crea un mensaje informativo que confirme el cambio de posición y salario del empleado y muestre el nombre del empleado, la nueva posición y el nuevo salario.\n",
    "\n",
    "7. Método \n",
    "tomar_vacaciones\n",
    ": Permite al empleado tomar días de vacaciones, solicitando la cantidad deseada y actualizando los días de vacaciones restantes. Verifica que se solicite al menos un día de vacaciones y que el empleado tenga suficientes días disponibles. No recibe ningún parámetro adicional.\n",
    "\n",
    "- Solicitar la Cantidad de Días de Vacaciones: Usar la función input para solicitar al usuario la cantidad de días de vacaciones que desea tomar.\n",
    "\n",
    "- Validar la Cantidad de Días: Comprueba que la cantidad de días solicitados sea mayor que cero. Si el usuario ingresa un valor no válido (cero o negativo), muestra un mensaje de error y solicita nuevamente la cantidad de días hasta que sea válida.\n",
    "\n",
    "- Verificar Disponibilidad de Días de Vacaciones: Comprueba si la cantidad de días solicitados es menor o igual a la cantidad de días de vacaciones disponibles para el empleado.\n",
    "\n",
    "- Actualizar Días de Vacaciones: Si hay suficientes días de vacaciones disponibles, modifica el código para que se modifiquen los días de vacaciones que le quedan. Si no hay suficientes días disponibles, mostrar un mensaje de error.\n",
    "\n",
    "- Generar un Mensaje de Confirmación o Error: Dependiendo de si la solicitud se procesó con éxito o no, genera un mensaje que informe al empleado sobre el resultado de su solicitud.\n",
    "\n",
    "8. Método \n",
    "solicitar_aumento_salario\n",
    ": Permite al empleado solicitar un aumento de salario en porcentaje y calcula el nuevo salario. Verifica que el aumento sea un valor positivo o igual a cero. Este método no recibe ningún parámetro.\n",
    "\n",
    "- Solicitar el Porcentaje de Aumento de Salario: Utiliza la función input para solicitar al usuario el porcentaje de aumento de salario que desea. Asegurate de que el valor ingresado sea un número decimal.\n",
    "\n",
    "- Validar el Porcentaje de Aumento: Utiliza un bucle while para garantizar que el porcentaje de aumento sea mayor o igual a cero. Si el usuario ingresa un valor no válido (negativo), muestra un mensaje de error y solicita nuevamente el porcentaje hasta que sea válido.\n",
    "\n",
    "- Calcular el Nuevo Salario: Calcula el nuevo salario.\n",
    "\n",
    "- Generar un Mensaje de Confirmación: Crea un mensaje que informe al empleado sobre el resultado de su solicitud. Incluye el nuevo salario calculado en el mensaje.\n",
    "\n",
    "- Manejar Errores de Entrada: Utiliza un bloque try...except para manejar posibles errores de entrada, como cuando el usuario ingresa un valor que no se puede convertir a un número decimal.\n",
    "\n",
    "9. Método \n",
    "realizar_evaluacion\n",
    ": Permite al empleado recibir una calificación de desempeño, con opciones como \"Excelente\", \"Bueno\", \"Regular\" o \"Malo\". Verifica que la calificación ingresada sea válida. Este método no recibe ningún parámetro.\n",
    "\n",
    "- Solicitar la Calificación del Desempeño: Utiliza la función input para solicitar al usuario que califique su propio desempeño. Asegurate de que el valor ingresado sea una de las opciones válidas: \"excelente\", \"bueno\", \"regular\" o \"malo\".\n",
    "\n",
    "- Validar la Calificación: Utiliza un bucle while para garantizar que la calificación ingresada sea una de las opciones válidas. Si el usuario ingresa una calificación no válida, muestra un mensaje de error y solicita nuevamente la calificación hasta que sea válida.\n",
    "\n",
    "- Generar un Mensaje de Retroalimentación: Crear un mensaje que proporcione retroalimentación al empleado basada en la calificación ingresada.\n",
    "\n",
    "- Retornar el Mensaje Generado: La función debe incluir una instrucción return que devuelva el mensaje generado."
   ]
  },
  {
   "cell_type": "code",
   "execution_count": 25,
   "metadata": {},
   "outputs": [],
   "source": [
    "from datetime import datetime"
   ]
  },
  {
   "cell_type": "code",
   "execution_count": 27,
   "metadata": {},
   "outputs": [],
   "source": [
    "class Empleados:\n",
    "\n",
    "    def __init__(self, nombre, apellidos, edad, posicion, año_ingreso, resto_vacaciones, herramientas):\n",
    "\n",
    "        self.nombre = nombre\n",
    "        self.apellidos = apellidos \n",
    "        self.edad = edad\n",
    "        self.posicion = posicion\n",
    "        self.año_ingreso = año_ingreso\n",
    "        self.resto_vacaciones = resto_vacaciones\n",
    "        self.herramientas = herramientas\n",
    "\n",
    "    def descripcion(self):\n",
    "\n",
    "        return f\"El empleado que se llama {self.nombre} que trabaja como {self.posicion} desde el año {self.año}, le quedan {self.resto_vacaciones} dias de vacaciones y utiliza {self.herramientas}.\"\n",
    "\n",
    "    def cambiando_posicion(self):\n",
    "\n",
    "        if self.herramientas == \"python\" :\n",
    "            print(\"Excelente\")\n",
    "\n",
    "        elif self.herramientas == \"excel\" :\n",
    "            print(\"Deberias dejar Excel y aprender Python 😎\")\n",
    "         \n",
    "\n",
    "    def calcular_antiguedad(self):\n",
    "\n",
    "        # Obtener el año actual\n",
    "        año_actual = datetime.now().year\n",
    "\n",
    "        # Calcular la antiguedad en años\n",
    "        años_antiguedad = año_actual - self.año_ingreso\n",
    "\n",
    "        return f\"{self.nombre} lleva {años_antiguedad} años en la empresa.\"\n",
    "    \n",
    "    def solicitar_aumento_vacaciones(self, dias_solicitado):\n",
    "\n",
    "        suma_vaciones = dias_solicitado + self.resto_vacaciones\n",
    "\n",
    "        if dias_solicitado > 0 :\n",
    "            print(f\"{self.nombre} la solicitud ha sido aprobada, tienes {suma_vaciones} dias de vacaciones\")\n",
    "\n",
    "        elif dias_solicitado <= 0 :\n",
    "            print(\"Error el numero de dias debe ser positivo\")\n",
    "\n",
    "    def registrar_herramienta(self, nueva_herramienta):\n",
    "\n",
    "        lista_herramientas = [\"excel\", \"python\"]\n",
    "        \n",
    "        if nueva_herramienta in lista_herramientas:\n",
    "            \n",
    "            return f\"La herramienta:{nueva_herramienta} ya ha sido registrada previamente\"\n",
    "        \n",
    "        elif nueva_herramienta is not lista_herramientas.append(nueva_herramienta):\n",
    "            lista_herramientas.append(nueva_herramienta)\n",
    "            print(f\"La nueva herramienta: {nueva_herramienta} ya esta registrada\")\n"
   ]
  },
  {
   "cell_type": "code",
   "execution_count": 28,
   "metadata": {},
   "outputs": [],
   "source": [
    "emp_1 = Empleados(\"María\", \"Garcia Sant\", 28, \"Recepcionista\", 2022, 30, \"python\")"
   ]
  },
  {
   "cell_type": "code",
   "execution_count": 30,
   "metadata": {},
   "outputs": [
    {
     "name": "stdout",
     "output_type": "stream",
     "text": [
      "La nueva herramienta: l ya esta registrada\n"
     ]
    }
   ],
   "source": [
    "emp_1.registrar_herramienta(\"l\")"
   ]
  },
  {
   "cell_type": "code",
   "execution_count": 37,
   "metadata": {},
   "outputs": [
    {
     "name": "stdout",
     "output_type": "stream",
     "text": [
      "Error el numero de dias debe ser positivo\n"
     ]
    }
   ],
   "source": [
    "emp_1.solicitar_aumento_vacaciones(0)"
   ]
  },
  {
   "cell_type": "code",
   "execution_count": 29,
   "metadata": {},
   "outputs": [
    {
     "data": {
      "text/plain": [
       "'María lleva 2 años en la empresa.'"
      ]
     },
     "execution_count": 29,
     "metadata": {},
     "output_type": "execute_result"
    }
   ],
   "source": [
    "emp_1.calcular_antiguedad()"
   ]
  },
  {
   "cell_type": "code",
   "execution_count": 60,
   "metadata": {},
   "outputs": [
    {
     "name": "stdout",
     "output_type": "stream",
     "text": [
      "Excelente\n"
     ]
    }
   ],
   "source": [
    "emp_1.cambiando_posicion()"
   ]
  },
  {
   "cell_type": "code",
   "execution_count": 19,
   "metadata": {},
   "outputs": [
    {
     "data": {
      "text/plain": [
       "'Garcia Sant'"
      ]
     },
     "execution_count": 19,
     "metadata": {},
     "output_type": "execute_result"
    }
   ],
   "source": [
    "emp_1.apellidos"
   ]
  },
  {
   "cell_type": "code",
   "execution_count": 28,
   "metadata": {},
   "outputs": [
    {
     "data": {
      "text/plain": [
       "{'nombre': 'María',\n",
       " 'apellidos': 'Garcia Sant',\n",
       " 'edad': 28,\n",
       " 'posicion': 'Recepcionista',\n",
       " 'año_ingreso': 2022,\n",
       " 'resto_vacaciones': 30,\n",
       " 'herramientas': 'python'}"
      ]
     },
     "execution_count": 28,
     "metadata": {},
     "output_type": "execute_result"
    }
   ],
   "source": [
    "emp_1.__dict__"
   ]
  },
  {
   "cell_type": "code",
   "execution_count": 21,
   "metadata": {},
   "outputs": [
    {
     "data": {
      "text/plain": [
       "'El empleado que se llama María que trabaja como Recepcionista desde el año 2022, le quedan 30 dias de vacaciones y utiliza python.'"
      ]
     },
     "execution_count": 21,
     "metadata": {},
     "output_type": "execute_result"
    }
   ],
   "source": [
    "emp_1.descripcion()"
   ]
  },
  {
   "cell_type": "markdown",
   "metadata": {},
   "source": [
    "\n",
    "2. En este ejercicio, se te pide crear una herencia de la clase creada en el ejercicio anterior. Esta clase hija se llama \"Gerente\" que hereda de la clase creada en el ejercicio anterior. Las instrucciones para crear esta clase son:\n",
    "\n",
    "- Crea la clase derivada \"Gerente\" que hereda de la clase \"Empleados\". Esta clase debe tener los siguientes atributos en su constructor además de los heredados de \"Empleados\":\n",
    "\n",
    "departamento (str): El departamento al que está asignado el gerente.\n",
    "\n",
    "empleados_a_cargo (list): Una lista que contiene los nombres de los empleados que están a cargo del gerente.\n",
    "\n",
    "- Implementa los siguientes métodos en la clase \"Gerente\":\n",
    "\n",
    "- asignar_tareas(tarea, empleado): Este método debe recibir el nombre de una tarea y el nombre de un empleado y debe devolver una cadena que indique que el gerente ha asignado la tarea a ese empleado.\n",
    "\n",
    "- revisar_desempeno_empleado(empleado): Este método debe recibir el nombre de un empleado y debe devolver una cadena que indique que el gerente está revisando el desempeño de ese empleado.\n",
    "\n",
    "- gestionar_empleados(accion, empleado): Este método permite al gerente realizar acciones de contratación o despido de empleados a cargo. Debe recibir una acción (\"contratar\" o \"despedir\") y el nombre de un empleado. Si la acción es \"contratar\", agrega al empleado a la lista de empleados a cargo y devuelve un mensaje indicando que el empleado ha sido contratado por el gerente. Si la acción es \"despedir\" y el empleado está en la lista de empleados a cargo, lo elimina y devuelve un mensaje de despido. Si la acción no es válida, devuelve un mensaje indicando que la acción no es válida."
   ]
  },
  {
   "cell_type": "code",
   "execution_count": null,
   "metadata": {},
   "outputs": [],
   "source": []
  }
 ],
 "metadata": {
  "kernelspec": {
   "display_name": "base",
   "language": "python",
   "name": "python3"
  },
  "language_info": {
   "codemirror_mode": {
    "name": "ipython",
    "version": 3
   },
   "file_extension": ".py",
   "mimetype": "text/x-python",
   "name": "python",
   "nbconvert_exporter": "python",
   "pygments_lexer": "ipython3",
   "version": "3.9.12"
  }
 },
 "nbformat": 4,
 "nbformat_minor": 2
}
